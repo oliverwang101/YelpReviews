{
 "cells": [
  {
   "cell_type": "markdown",
   "metadata": {},
   "source": [
    "# Cleaning up Yelp API results\n"
   ]
  },
  {
   "cell_type": "code",
   "execution_count": 2,
   "metadata": {},
   "outputs": [],
   "source": [
    "import pandas as pd\n"
   ]
  },
  {
   "cell_type": "code",
   "execution_count": 4,
   "metadata": {},
   "outputs": [],
   "source": [
    "# Read in all CSV files, concat them, then merge with business csv file to acquire more details on reviews"
   ]
  },
  {
   "cell_type": "code",
   "execution_count": 8,
   "metadata": {},
   "outputs": [],
   "source": [
    "rests1 = pd.read_csv(\"top400_cities_rest.csv\").drop([\"Unnamed: 0\", \"name\"], axis = 1)\n",
    "reviews1 = pd.read_csv(\"first100citiesreviews.csv\").drop([\"Unnamed: 0\", \"time_created\",\"url\",\"user.image_url\",\"user.name\"],axis=1)\n",
    "\n",
    "reviews2 = pd.read_csv(\"second100citiesreviews.csv\").drop([\"Unnamed: 0\", \"time_created\",\"url\",\"user.image_url\",\"user.name\"],axis=1)\n",
    "\n",
    "reviews3 = pd.read_csv(\"third100citiesreviews.csv\").drop([\"Unnamed: 0\", \"time_created\",\"url\",\"user.image_url\",\"user.name\"],axis=1)\n",
    "\n",
    "reviews4 = pd.read_csv(\"fourth100citiesreviews.csv\").drop([\"Unnamed: 0\", \"time_created\",\"url\",\"user.image_url\",\"user.name\"],axis=1)"
   ]
  },
  {
   "cell_type": "code",
   "execution_count": 9,
   "metadata": {},
   "outputs": [],
   "source": [
    "reviews = pd.concat([reviews1,reviews2, reviews3, reviews4])"
   ]
  },
  {
   "cell_type": "code",
   "execution_count": 5,
   "metadata": {},
   "outputs": [],
   "source": [
    "rests1 = rests1.rename(index=str, columns={\"rating\": \"rest_rating\", \"id\":\"bus_id\"})\n"
   ]
  },
  {
   "cell_type": "code",
   "execution_count": 7,
   "metadata": {},
   "outputs": [],
   "source": [
    "reviews = reviews.merge(rests1,on=\"bus_id\",how=\"left\")"
   ]
  },
  {
   "cell_type": "code",
   "execution_count": 5,
   "metadata": {},
   "outputs": [],
   "source": [
    "# left merge, on business ID to retain all reviews"
   ]
  },
  {
   "cell_type": "code",
   "execution_count": 21,
   "metadata": {},
   "outputs": [],
   "source": [
    "reviews.to_csv(\"reviews.csv\")"
   ]
  }
 ],
 "metadata": {
  "kernelspec": {
   "display_name": "Python 3",
   "language": "python",
   "name": "python3"
  },
  "language_info": {
   "codemirror_mode": {
    "name": "ipython",
    "version": 3
   },
   "file_extension": ".py",
   "mimetype": "text/x-python",
   "name": "python",
   "nbconvert_exporter": "python",
   "pygments_lexer": "ipython3",
   "version": "3.6.5"
  }
 },
 "nbformat": 4,
 "nbformat_minor": 2
}
