{
 "cells": [
  {
   "cell_type": "code",
   "execution_count": 1,
   "metadata": {},
   "outputs": [],
   "source": [
    "import pandas as pd\n",
    "import numpy as np"
   ]
  },
  {
   "cell_type": "code",
   "execution_count": 2,
   "metadata": {},
   "outputs": [],
   "source": [
    "from sklearn.ensemble import RandomForestRegressor"
   ]
  },
  {
   "cell_type": "markdown",
   "metadata": {},
   "source": [
    "# Model 4.2 CV - \"All\" Random Forest Regressor Model - \"Sentiment\", \"words\", \"category\", \"votes.funny\", \"votes.useful\", \"votes.cool\", \"rest_rating\" "
   ]
  },
  {
   "cell_type": "code",
   "execution_count": 3,
   "metadata": {},
   "outputs": [],
   "source": [
    "revs = pd.read_csv(\"../all_full_reviews.csv\").drop([\"Unnamed: 0\"],axis=1)"
   ]
  },
  {
   "cell_type": "code",
   "execution_count": null,
   "metadata": {},
   "outputs": [],
   "source": [
    "y_tr = revs.rating"
   ]
  },
  {
   "cell_type": "code",
   "execution_count": 5,
   "metadata": {},
   "outputs": [],
   "source": [
    "revs.categories = revs.categories.str.replace(\" \",\"\")\n",
    "revs.categories\n",
    "revs[\"service\"] = revs.categories.fillna(\"\").str.split(\",\")"
   ]
  },
  {
   "cell_type": "code",
   "execution_count": 6,
   "metadata": {},
   "outputs": [],
   "source": [
    "%matplotlib inline\n",
    "from sklearn.preprocessing import MultiLabelBinarizer\n",
    "\n",
    "binarizer = MultiLabelBinarizer()\n",
    "services = pd.DataFrame(\n",
    "    binarizer.fit_transform(revs[\"service\"]),\n",
    "    columns=binarizer.classes_\n",
    ")\n",
    "services = services.drop([\"\"],axis=1)\n"
   ]
  },
  {
   "cell_type": "code",
   "execution_count": 7,
   "metadata": {},
   "outputs": [],
   "source": [
    "from sklearn.feature_extraction.text import TfidfVectorizer\n",
    "# for train data - get id-idf sparse matrix \n",
    "vec = TfidfVectorizer(norm=None, max_df=.8, max_features=500) # Do not normalize.\n",
    "revs.words = revs.words.fillna(\"\")\n",
    "vec.fit(revs.words) # This determines the vocabulary.\n",
    "tf_idf_sparse_tr = vec.transform(revs.words)\n",
    "x_tr = pd.DataFrame(tf_idf_sparse_tr.todense())\n"
   ]
  },
  {
   "cell_type": "code",
   "execution_count": 8,
   "metadata": {},
   "outputs": [],
   "source": [
    "x_tr = pd.concat([revs[[\"neg\",\"pos\"]],x_tr,services],axis=1)"
   ]
  },
  {
   "cell_type": "code",
   "execution_count": 9,
   "metadata": {},
   "outputs": [],
   "source": [
    "from sklearn.model_selection import RandomizedSearchCV\n",
    "# Number of trees in random forest\n",
    "n_estimators = [int(x) for x in np.linspace(start = 200, stop = 1000, num = 100)]\n",
    "# Number of features to consider at every split\n",
    "max_features = ['auto', 'sqrt']\n",
    "# Maximum number of levels in tree\n",
    "max_depth = [int(x) for x in np.linspace(10, 110, num = 11)]\n",
    "max_depth.append(None)\n",
    "# Minimum number of samples required to split a node\n",
    "min_samples_split = [2, 5, 10]\n",
    "# Minimum number of samples required at each leaf node\n",
    "min_samples_leaf = [1, 2, 4]\n",
    "# Method of selecting samples for training each tree\n",
    "bootstrap = [True, False]\n",
    "# Create the random grid\n",
    "random_grid = {'n_estimators': n_estimators,\n",
    "               'max_features': max_features,\n",
    "               'max_depth': max_depth,\n",
    "               'min_samples_split': min_samples_split,\n",
    "               'min_samples_leaf': min_samples_leaf,\n",
    "               'bootstrap': bootstrap}"
   ]
  },
  {
   "cell_type": "code",
   "execution_count": 10,
   "metadata": {},
   "outputs": [],
   "source": [
    "# Use numpy to convert to arrays\n",
    "import numpy as np\n",
    "# Labels are the values we want to predict\n",
    "labels = np.array(y_tr)\n",
    "\n",
    "# Saving feature names for later use\n",
    "feature_list = list(pd.DataFrame(x_tr).columns)\n",
    "# Convert to numpy array\n",
    "features = np.array(x_tr)"
   ]
  },
  {
   "cell_type": "code",
   "execution_count": 11,
   "metadata": {},
   "outputs": [],
   "source": [
    "# Using Skicit-learn to split data into training and testing sets\n",
    "from sklearn.model_selection import train_test_split\n",
    "# Split the data into training and testing sets\n",
    "train_features, test_features, train_labels, test_labels = train_test_split(features, labels, test_size = 0.25, random_state = 42)"
   ]
  },
  {
   "cell_type": "code",
   "execution_count": 12,
   "metadata": {},
   "outputs": [
    {
     "name": "stdout",
     "output_type": "stream",
     "text": [
      "Fitting 3 folds for each of 5 candidates, totalling 15 fits\n",
      "[CV] n_estimators=967, min_samples_split=5, min_samples_leaf=2, max_features=sqrt, max_depth=90, bootstrap=True \n",
      "[CV] n_estimators=967, min_samples_split=5, min_samples_leaf=2, max_features=sqrt, max_depth=90, bootstrap=True \n",
      "[CV] n_estimators=967, min_samples_split=5, min_samples_leaf=2, max_features=sqrt, max_depth=90, bootstrap=True \n",
      "[CV] n_estimators=684, min_samples_split=10, min_samples_leaf=4, max_features=auto, max_depth=10, bootstrap=True \n",
      "[CV]  n_estimators=967, min_samples_split=5, min_samples_leaf=2, max_features=sqrt, max_depth=90, bootstrap=True, total= 9.9min\n",
      "[CV] n_estimators=684, min_samples_split=10, min_samples_leaf=4, max_features=auto, max_depth=10, bootstrap=True \n",
      "[CV]  n_estimators=967, min_samples_split=5, min_samples_leaf=2, max_features=sqrt, max_depth=90, bootstrap=True, total= 9.8min\n",
      "[CV] n_estimators=684, min_samples_split=10, min_samples_leaf=4, max_features=auto, max_depth=10, bootstrap=True \n",
      "[CV]  n_estimators=967, min_samples_split=5, min_samples_leaf=2, max_features=sqrt, max_depth=90, bootstrap=True, total= 9.8min\n",
      "[CV] n_estimators=668, min_samples_split=2, min_samples_leaf=2, max_features=auto, max_depth=100, bootstrap=False \n",
      "[CV]  n_estimators=684, min_samples_split=10, min_samples_leaf=4, max_features=auto, max_depth=10, bootstrap=True, total=53.6min\n",
      "[CV] n_estimators=668, min_samples_split=2, min_samples_leaf=2, max_features=auto, max_depth=100, bootstrap=False \n",
      "[CV]  n_estimators=684, min_samples_split=10, min_samples_leaf=4, max_features=auto, max_depth=10, bootstrap=True, total=52.1min\n",
      "[CV] n_estimators=668, min_samples_split=2, min_samples_leaf=2, max_features=auto, max_depth=100, bootstrap=False \n",
      "[CV]  n_estimators=684, min_samples_split=10, min_samples_leaf=4, max_features=auto, max_depth=10, bootstrap=True, total=55.0min\n",
      "[CV] n_estimators=878, min_samples_split=5, min_samples_leaf=2, max_features=auto, max_depth=70, bootstrap=True \n",
      "[CV]  n_estimators=668, min_samples_split=2, min_samples_leaf=2, max_features=auto, max_depth=100, bootstrap=False, total=167.2min\n",
      "[CV] n_estimators=878, min_samples_split=5, min_samples_leaf=2, max_features=auto, max_depth=70, bootstrap=True \n",
      "[CV]  n_estimators=878, min_samples_split=5, min_samples_leaf=2, max_features=auto, max_depth=70, bootstrap=True, total=115.5min\n",
      "[CV] n_estimators=878, min_samples_split=5, min_samples_leaf=2, max_features=auto, max_depth=70, bootstrap=True \n",
      "[CV]  n_estimators=668, min_samples_split=2, min_samples_leaf=2, max_features=auto, max_depth=100, bootstrap=False, total=156.7min\n",
      "[CV] n_estimators=725, min_samples_split=10, min_samples_leaf=4, max_features=auto, max_depth=40, bootstrap=True \n",
      "[CV]  n_estimators=668, min_samples_split=2, min_samples_leaf=2, max_features=auto, max_depth=100, bootstrap=False, total=158.1min\n",
      "[CV] n_estimators=725, min_samples_split=10, min_samples_leaf=4, max_features=auto, max_depth=40, bootstrap=True \n",
      "[CV]  n_estimators=725, min_samples_split=10, min_samples_leaf=4, max_features=auto, max_depth=40, bootstrap=True, total=81.7min\n",
      "[CV] n_estimators=725, min_samples_split=10, min_samples_leaf=4, max_features=auto, max_depth=40, bootstrap=True \n",
      "[CV]  n_estimators=878, min_samples_split=5, min_samples_leaf=2, max_features=auto, max_depth=70, bootstrap=True, total=116.7min\n",
      "[CV]  n_estimators=878, min_samples_split=5, min_samples_leaf=2, max_features=auto, max_depth=70, bootstrap=True, total=116.0min\n",
      "[CV]  n_estimators=725, min_samples_split=10, min_samples_leaf=4, max_features=auto, max_depth=40, bootstrap=True, total=77.7min\n",
      "[CV]  n_estimators=725, min_samples_split=10, min_samples_leaf=4, max_features=auto, max_depth=40, bootstrap=True, total=19.1min\n"
     ]
    },
    {
     "name": "stderr",
     "output_type": "stream",
     "text": [
      "[Parallel(n_jobs=-1)]: Done  15 out of  15 | elapsed: 312.4min finished\n"
     ]
    },
    {
     "data": {
      "text/plain": [
       "RandomizedSearchCV(cv=3, error_score='raise',\n",
       "          estimator=RandomForestRegressor(bootstrap=True, criterion='mse', max_depth=None,\n",
       "           max_features='auto', max_leaf_nodes=None,\n",
       "           min_impurity_decrease=0.0, min_impurity_split=None,\n",
       "           min_samples_leaf=1, min_samples_split=2,\n",
       "           min_weight_fraction_leaf=0.0, n_estimators=10, n_jobs=1,\n",
       "           oob_score=False, random_state=None, verbose=0, warm_start=False),\n",
       "          fit_params=None, iid=True, n_iter=5, n_jobs=-1,\n",
       "          param_distributions={'n_estimators': [200, 208, 216, 224, 232, 240, 248, 256, 264, 272, 280, 288, 296, 305, 313, 321, 329, 337, 345, 353, 361, 369, 377, 385, 393, 402, 410, 418, 426, 434, 442, 450, 458, 466, 474, 482, 490, 498, 507, 515, 523, 531, 539, 547, 555, 563, 571, 579, 587, 595, 604, 612, 62..., None], 'min_samples_split': [2, 5, 10], 'min_samples_leaf': [1, 2, 4], 'bootstrap': [True, False]},\n",
       "          pre_dispatch='2*n_jobs', random_state=42, refit=True,\n",
       "          return_train_score='warn', scoring=None, verbose=2)"
      ]
     },
     "execution_count": 12,
     "metadata": {},
     "output_type": "execute_result"
    }
   ],
   "source": [
    "# Use the random grid to search for best hyperparameters\n",
    "# First create the base model to tune\n",
    "rf = RandomForestRegressor()\n",
    "# Random search of parameters, using 3 fold cross validation, \n",
    "# search across 100 different combinations, and use all available cores\n",
    "rf_random = RandomizedSearchCV(estimator = rf, param_distributions = random_grid, n_iter = 5, cv = 3, verbose=2, random_state=42, n_jobs = -1)\n",
    "# Fit the random search model\n",
    "rf_random.fit(train_features, train_labels)"
   ]
  },
  {
   "cell_type": "code",
   "execution_count": 1,
   "metadata": {},
   "outputs": [],
   "source": [
    "# best random forest parameters"
   ]
  },
  {
   "cell_type": "code",
   "execution_count": null,
   "metadata": {},
   "outputs": [
    {
     "data": {
      "text/plain": [
       "{'n_estimators': 967,\n",
       " 'min_samples_split': 5,\n",
       " 'min_samples_leaf': 2,\n",
       " 'max_features': 'sqrt',\n",
       " 'max_depth': 90,\n",
       " 'bootstrap': True}"
      ]
     },
     "execution_count": 13,
     "metadata": {},
     "output_type": "execute_result"
    }
   ],
   "source": [
    "rf_random.best_params_ "
   ]
  },
  {
   "cell_type": "markdown",
   "metadata": {},
   "source": [
    "## Check M4.2_forest_all.ipynb for this models Negative Mean Squared Error. "
   ]
  },
  {
   "cell_type": "code",
   "execution_count": 17,
   "metadata": {},
   "outputs": [
    {
     "data": {
      "text/plain": [
       "RandomizedSearchCV(cv=3, error_score='raise',\n",
       "          estimator=RandomForestRegressor(bootstrap=True, criterion='mse', max_depth=None,\n",
       "           max_features='auto', max_leaf_nodes=None,\n",
       "           min_impurity_decrease=0.0, min_impurity_split=None,\n",
       "           min_samples_leaf=1, min_samples_split=2,\n",
       "           min_weight_fraction_leaf=0.0, n_estimators=10, n_jobs=1,\n",
       "           oob_score=False, random_state=None, verbose=0, warm_start=False),\n",
       "          fit_params=None, iid=True, n_iter=5, n_jobs=-1,\n",
       "          param_distributions={'n_estimators': [200, 208, 216, 224, 232, 240, 248, 256, 264, 272, 280, 288, 296, 305, 313, 321, 329, 337, 345, 353, 361, 369, 377, 385, 393, 402, 410, 418, 426, 434, 442, 450, 458, 466, 474, 482, 490, 498, 507, 515, 523, 531, 539, 547, 555, 563, 571, 579, 587, 595, 604, 612, 62..., None], 'min_samples_split': [2, 5, 10], 'min_samples_leaf': [1, 2, 4], 'bootstrap': [True, False]},\n",
       "          pre_dispatch='2*n_jobs', random_state=42, refit=True,\n",
       "          return_train_score='warn', scoring=None, verbose=2)"
      ]
     },
     "execution_count": 17,
     "metadata": {},
     "output_type": "execute_result"
    }
   ],
   "source": [
    "rf_random"
   ]
  },
  {
   "cell_type": "code",
   "execution_count": 18,
   "metadata": {},
   "outputs": [
    {
     "name": "stdout",
     "output_type": "stream",
     "text": [
      "Mean Absolute Error: 0.75 ratings.\n"
     ]
    }
   ],
   "source": [
    "# Use the forest's predict method on the test data\n",
    "predictions = rf_random.predict(test_features)\n",
    "# Calculate the absolute errors\n",
    "errors = abs(predictions - test_labels)\n",
    "# Print out the mean absolute error (mae)\n",
    "print('Mean Absolute Error:', round(np.mean(errors), 2), 'ratings.')\n"
   ]
  }
 ],
 "metadata": {
  "kernelspec": {
   "display_name": "Python 3",
   "language": "python",
   "name": "python3"
  },
  "language_info": {
   "codemirror_mode": {
    "name": "ipython",
    "version": 3
   },
   "file_extension": ".py",
   "mimetype": "text/x-python",
   "name": "python",
   "nbconvert_exporter": "python",
   "pygments_lexer": "ipython3",
   "version": "3.6.5"
  }
 },
 "nbformat": 4,
 "nbformat_minor": 2
}
