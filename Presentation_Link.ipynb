{
 "cells": [
  {
   "cell_type": "markdown",
   "metadata": {},
   "source": [
    "# Presentation Link"
   ]
  },
  {
   "cell_type": "code",
   "execution_count": null,
   "metadata": {},
   "outputs": [],
   "source": [
    "https://docs.google.com/presentation/d/1sg9R01Zi_Lv68AFLkTjxdwlEZKPFgHOPgBGbtrX1v8A/edit?usp=sharing"
   ]
  },
  {
   "cell_type": "markdown",
   "metadata": {},
   "source": [
    "# Data Collection and Cleaning"
   ]
  },
  {
   "cell_type": "markdown",
   "metadata": {},
   "source": [
    "### Method 1"
   ]
  },
  {
   "cell_type": "markdown",
   "metadata": {},
   "source": [
    "Since we were only allowed one response entry per API call from Yelp Fusion API, we needed to have some sort of iterator to loop through a set of entries (id, business, etc)\n",
    "\n",
    "To do this, we scrapped from a webpage, the top 400 cities in the United States (Beautiful Soup). Using each city, we acquired five businesses which included various business information as well as its business ID. \n",
    "Once the reviews have been retrieved, they are merged with the business dataset to obtain more variety of columns"
   ]
  },
  {
   "cell_type": "markdown",
   "metadata": {},
   "source": [
    "### Method 2 (Chosen)"
   ]
  },
  {
   "cell_type": "markdown",
   "metadata": {},
   "source": [
    "The result of the API calls were broken reviews and limited information on reviews so we resorted to using a json file found on a Yelp sentiment competition. \n",
    "\n",
    "Since our API calls only managed to get 10,000 reviews, we felt that it was only fair to use the same number of reviews from the Kaggle JSON file even though it had over 100,000 reviews.\n",
    "\n",
    "To our surprise, most of the results were actually the same, except for the fact that full reviews just yielded stronger differences in negative and positive sentiment. \n",
    "\n",
    "Similar to method 1, we merged reviews with businesses to obtain more information per review (location, business type, etc):\n",
    "\n",
    "***all_reviews = reviews.merge(bus,on=\"business_id\",how=\"left\")***"
   ]
  },
  {
   "cell_type": "markdown",
   "metadata": {},
   "source": [
    "# Exploration"
   ]
  },
  {
   "cell_type": "markdown",
   "metadata": {},
   "source": [
    "First we wanted to break down sentiments by rating, and of course, found that lower ratings had much higher negative sentiment compared to other ratings. \n",
    "What was interesting was simply the differences of mean positive and mean negative sentiments by rating. Whether or not a rating was 1 or 5, they all tended to contain various\n",
    "degrees of negative sentiment, but what may have been a **stronger** indicator of rating was the positive sentiment within a review. "
   ]
  },
  {
   "cell_type": "markdown",
   "metadata": {},
   "source": [
    "<img src=\"sentiment_by_rating.PNG\" width=\"400\" />\n"
   ]
  },
  {
   "cell_type": "markdown",
   "metadata": {},
   "source": [
    "<img src=\"dist.PNG\" length = \"500\" width=\"800\" />\n",
    "<img src=\"dist2.PNG\" length = \"500\" width=\"800\" />"
   ]
  },
  {
   "cell_type": "markdown",
   "metadata": {},
   "source": [
    "Next, after examining the data, we found that sentiment results for certain ratings are heavily affected by the frequencies of certain ratings in the dataset. To examine this,\n",
    "we plotted the frequencies of each review rating, and restaurant review rating. It is clear that a rating of 1 was given the least often and 4 the most. This makes sense since\n",
    "a collection of ratings result in a less extreme rating, whereas users are free to choose from 1-5 on their reviews. "
   ]
  },
  {
   "cell_type": "markdown",
   "metadata": {},
   "source": [
    "<img src=\"rest_rating_freq.PNG\" width=\"400\" />"
   ]
  },
  {
   "cell_type": "markdown",
   "metadata": {},
   "source": [
    "<img src=\"rating_freq.PNG\" width=\"400\" />"
   ]
  },
  {
   "cell_type": "markdown",
   "metadata": {},
   "source": [
    "As a result, we would get very little restaurant ratings of 5 and 1-2. Users tend to give a rating higher than 2 since bad sentiment\n",
    "is often balanced out by good aspects of a service/business. The frequencies of ratings directly affects the predictability of \n",
    "ratings since there are just less 1 and 2 rating than there are 4 and 5 ratings.\n",
    "Simply put, there is less information on lower ratings for predictability. Which may result in higher accuracy in predicting higher ratings, and lower accuracy when predicting lower ratings"
   ]
  },
  {
   "cell_type": "markdown",
   "metadata": {},
   "source": [
    "## Machine Learning"
   ]
  },
  {
   "cell_type": "markdown",
   "metadata": {},
   "source": [
    "There are several machine learning models that we used to predict the various ratings of reviews. "
   ]
  },
  {
   "cell_type": "markdown",
   "metadata": {},
   "source": [
    "### Classifiers"
   ]
  },
  {
   "cell_type": "markdown",
   "metadata": {},
   "source": [
    "<img src=\"accuracy.PNG\" width=\"400\" />"
   ]
  },
  {
   "cell_type": "markdown",
   "metadata": {},
   "source": [
    "Initially, we felt that since review ratings fell into 1 of 5 categories (1-5), we would predict each rating by using a classifier.\n",
    "First we attempted a classifier using KNN, and acquired an accuracy of **.38** which is only a slightly better than just guessing one of the five ratings (.20).\n",
    "\n",
    "To give some sort of comparison to the KNN-classifier model, we ran a naive-bayes classifier which is a simple probabilistic classifier using Bayes Theorem which describes the liklihood of one event given prior knowledge of prior, similar events. In this case, we used a \"naive\" Bayes classifier as it assumes strong independence across features making it \"naive\". This classifier ultimately yielded us a decent result of an accuracy of **.47** which is far better than KNN. \n"
   ]
  },
  {
   "cell_type": "markdown",
   "metadata": {},
   "source": [
    "### Regressors"
   ]
  },
  {
   "cell_type": "markdown",
   "metadata": {},
   "source": [
    "<img src=\"models.PNG\" width=\"400\" />"
   ]
  },
  {
   "cell_type": "markdown",
   "metadata": {},
   "source": [
    "#### K-Nearest Neighbors Regressor\n",
    "Since none of the classifier models yielded any significant results, we wanted to see how regressor models matched up. To establish\n",
    "a baseline, we simply chose KNN-regressors with just the words as features. This baseline yielded a result of **1.3** Mean Squared Error. This regressor was far worse than the Naive-Bayes classifier but it gave a better idea of how close our predictions were as we tuned the model and hyperparameters. \n",
    "\n",
    "The next step was to increase the number of features on the same ML algorithm.\n",
    "This includes using not only the words, but also the sentiment, useful votes, cool votes, funny votes, words, and categories of business types. \n",
    "\n",
    "This model yielded a MSE of **1.08**, which was slightly better than our baseline.\n"
   ]
  },
  {
   "cell_type": "markdown",
   "metadata": {},
   "source": [
    "#### Random Forest Regressor\n",
    "Since our best model using KNN was only able to yield a MSE of 1.08, we felt that other algorithms could better achieve rating predictions. We used a random forest regressor which relied on the construction of decision trees on randomized estimators. \n",
    "We felt that this could be an improvement as decision trees by nature, could drastically reduce the error since high rating reviews would much more accuratly be predicted since they had a strong positive sentiment consistently. \n",
    "\n",
    "In order to obtain the best hyperparameter for the Random Forest Regressor, We ran a RandomizedSearchCV to iterate through combinations of the Random Forest parameters that we specified. \n",
    "\n",
    "These are just two of the handful of parameters that we have tuned for the model:\n",
    "\n",
    "\n",
    "##### Number of trees in random forest\n",
    "n_estimators = [int(x) for x in np.linspace(start = 200, stop = 1000, num = 100)]\n",
    "##### Number of features to consider at every split\n",
    "max_features = ['auto', 'sqrt']"
   ]
  },
  {
   "cell_type": "markdown",
   "metadata": {},
   "source": [
    "****\n",
    "After running a baseline RF-regressor with just the sentiments, we already got a better MSE of **1.03**. \n",
    "\n",
    "Then, with the addition of several features, as well as the tuning of hyperparameters to those features, we find the best parameters to run our model on:\n",
    "\n",
    "***{'n_estimators': 967,\n",
    " 'min_samples_split': 5,\n",
    " 'min_samples_leaf': 2,\n",
    " 'max_features': 'sqrt',\n",
    " 'max_depth': 90,\n",
    " 'bootstrap': True}***\n",
    "\n",
    "We finally obtained a result of **.85** MSE from a Random Forest Regressor containing all the \n",
    "columns of the review. \n",
    "\n",
    "With an MSE of .85, we were able to predict ratings with under 1 rating point error which we consider to be a drastic improvement from the other models. This implied that our model was able to at least get somewhat of a ballpark of a review's rating. "
   ]
  },
  {
   "cell_type": "markdown",
   "metadata": {},
   "source": [
    "### Importance"
   ]
  },
  {
   "cell_type": "markdown",
   "metadata": {},
   "source": [
    "<img src=\"import.PNG\" width=\"400\" />"
   ]
  },
  {
   "cell_type": "markdown",
   "metadata": {},
   "source": [
    "<img src=\"words.PNG\" width=\"200\" />"
   ]
  },
  {
   "cell_type": "markdown",
   "metadata": {},
   "source": [
    "To no surprise, sentiment within the review itself presented itself as the most important feature of our best model. As shown in \n",
    "previous visualizations, negative sentiment tended to exist throughout all types of ratings which resulted in it being the second \n",
    "most important after positive sentiment.\n",
    "\n",
    "The visualization contains vectorized words in the form of their index so to find the words. After looking up, by index, each of the words from the vectorizor model, we see that words of sentiment were indeed, important to the prediction of a rating."
   ]
  },
  {
   "cell_type": "markdown",
   "metadata": {},
   "source": [
    "## Conclusion"
   ]
  },
  {
   "cell_type": "markdown",
   "metadata": {},
   "source": [
    "Sentiment analysis shows the predictability of user review/rating patterns. Although review texts are user-written which includes\n",
    "a degree of randomness, there is still a measurability of the sentiment behind a review. After all, any decent review needs to\n",
    "contain SOME sentiment for it to have any usefulness and meaning with rating.\n",
    "\n",
    "With better models and more control over features, the more specific the results. For example, we could analyze trends of sentiment\n",
    "based on business types, user types, and locations. Such trends could be generated into useful information that potentially \n",
    "Yelp or Businesses could use for gain a better understanding of users behavior and various aspects of a business.\n",
    "\n",
    "#### Takeaway\n",
    "\n",
    "It was very rewarding to be able to see a project as such be developed from start to end. Although this is just the tip of the iceberg in terms of what could be taken from sentiment analysis and these machine learning models, it shows that with some knowledge and attention, real and interesting results could be extracted from almost anything if it is in the form of data."
   ]
  }
 ],
 "metadata": {
  "kernelspec": {
   "display_name": "Python 3",
   "language": "python",
   "name": "python3"
  },
  "language_info": {
   "codemirror_mode": {
    "name": "ipython",
    "version": 3
   },
   "file_extension": ".py",
   "mimetype": "text/x-python",
   "name": "python",
   "nbconvert_exporter": "python",
   "pygments_lexer": "ipython3",
   "version": "3.6.5"
  }
 },
 "nbformat": 4,
 "nbformat_minor": 2
}
