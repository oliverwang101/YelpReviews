{
 "cells": [
  {
   "cell_type": "code",
   "execution_count": 1,
   "metadata": {},
   "outputs": [
    {
     "name": "stdout",
     "output_type": "stream",
     "text": [
      "./\n",
      "./kgl_yelp_training_set_business.json\n",
      "./api_reviews.csv\n",
      "./CV_models/\n",
      "./CV_models/importance_forest.ipynb\n",
      "./CV_models/M4.3_forest_all_CV.ipynb\n",
      "./CV_models/M4.3_forest_all.ipynb\n",
      "./CV_models/M3.2_knnregressor.ipynb\n",
      "./CV_models/M4.2_forest_wrds.ipynb\n",
      "./CV_models/M4.2_forest_wrds_CV.ipynb\n",
      "./CV_models/M2_knnclassifier.ipynb\n",
      "./CV_models/.ipynb_checkpoints/\n",
      "./CV_models/.ipynb_checkpoints/M4.1_forest_bseline-checkpoint.ipynb\n",
      "./CV_models/.ipynb_checkpoints/M1_naive_bayes-checkpoint.ipynb\n",
      "./CV_models/.ipynb_checkpoints/M3.1_knnregressor-checkpoint.ipynb\n",
      "./CV_models/.ipynb_checkpoints/M4.3_forest_all-checkpoint.ipynb\n",
      "./CV_models/.ipynb_checkpoints/M4.3_forest_all_CV-checkpoint.ipynb\n",
      "./CV_models/.ipynb_checkpoints/importance_forest-checkpoint.ipynb\n",
      "./CV_models/.ipynb_checkpoints/M4.2_forest_wrds-checkpoint.ipynb\n",
      "./CV_models/.ipynb_checkpoints/M3.2_knnregressor-checkpoint.ipynb\n",
      "./CV_models/.ipynb_checkpoints/M2_knnclassifier-checkpoint.ipynb\n",
      "./CV_models/.ipynb_checkpoints/M4.2_forest_wrds_CV-checkpoint.ipynb\n",
      "./CV_models/M3.1_knnregressor.ipynb\n",
      "./CV_models/M4.1_forest_bseline.ipynb\n",
      "./CV_models/M1_naive_bayes.ipynb\n",
      "./.ipynb_checkpoints/\n",
      "./.ipynb_checkpoints/Cleaning_yelp_api-checkpoint.ipynb\n",
      "./.ipynb_checkpoints/zip-checkpoint.ipynb\n",
      "./.ipynb_checkpoints/reviews-checkpoint.csv\n",
      "./.ipynb_checkpoints/full_reviews_sentiment-checkpoint.csv\n",
      "./.ipynb_checkpoints/Exploration-checkpoint.ipynb\n",
      "./.ipynb_checkpoints/Collection_cleaning_kaggle_file-checkpoint.ipynb\n",
      "./.ipynb_checkpoints/full_reviews-checkpoint.csv\n",
      "./.ipynb_checkpoints/all_full_reviews-checkpoint.csv\n",
      "./.ipynb_checkpoints/kgl_yelp_training_set_business-checkpoint.json\n",
      "./.ipynb_checkpoints/api_reviews-checkpoint.csv\n",
      "./.ipynb_checkpoints/top400_cities_rest-checkpoint.csv\n",
      "./.ipynb_checkpoints/Collection_yelp_api-checkpoint.ipynb\n",
      "./gistfile1.txt\n",
      "./top400_cities_rest.csv\n",
      "./Collection_yelp_api.ipynb\n",
      "./proj.tgz\n",
      "tar: ./proj.tgz: file changed as we read it\n",
      "./full_reviews.csv\n",
      "./all_full_reviews.csv\n",
      "./Exploration.ipynb\n",
      "./Collection_cleaning_kaggle_file.ipynb\n",
      "./kgl_yelp_reviews.json\n",
      "./zip.ipynb\n",
      "./Cleaning_yelp_api.ipynb\n",
      "./full_reviews_sentiment.csv\n",
      "./reviews.csv\n"
     ]
    }
   ],
   "source": [
    "!tar -zcvf proj.tgz .\n"
   ]
  },
  {
   "cell_type": "code",
   "execution_count": null,
   "metadata": {},
   "outputs": [],
   "source": []
  }
 ],
 "metadata": {
  "kernelspec": {
   "display_name": "Python 3",
   "language": "python",
   "name": "python3"
  },
  "language_info": {
   "codemirror_mode": {
    "name": "ipython",
    "version": 3
   },
   "file_extension": ".py",
   "mimetype": "text/x-python",
   "name": "python",
   "nbconvert_exporter": "python",
   "pygments_lexer": "ipython3",
   "version": "3.6.5"
  }
 },
 "nbformat": 4,
 "nbformat_minor": 2
}
